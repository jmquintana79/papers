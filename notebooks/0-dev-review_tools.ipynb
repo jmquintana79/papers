{
 "cells": [
  {
   "cell_type": "markdown",
   "id": "a0186732",
   "metadata": {},
   "source": [
    "# Dev: Papers IDs collector\n",
    "\n",
    "- arXiv API\n",
    "- cleantext\n",
    "\n",
    "### References\n",
    "\n",
    "- [arXiv.org](https://arxiv.org/)\n",
    "- [arXiv API-Homepage](https://pypi.org/project/arxiv/)\n",
    "- [arXiv API-Documentation](http://lukasschwab.me/arxiv.py/index.html)"
   ]
  },
  {
   "cell_type": "code",
   "execution_count": 2,
   "id": "9f83239e",
   "metadata": {},
   "outputs": [],
   "source": [
    "import pandas as pd"
   ]
  },
  {
   "cell_type": "code",
   "execution_count": 3,
   "id": "8e5f5d17",
   "metadata": {},
   "outputs": [
    {
     "name": "stdout",
     "output_type": "stream",
     "text": [
      "Automated Machine Learning, Bounded Rationality, and Rational Metareasoning\n",
      "['Eyke Hüllermeier', 'Felix Mohr', 'Alexander Tornede', 'Marcel Wever']\n",
      "['cs.AI', 'cs.LG']\n",
      "cs.AI\n",
      "The notion of bounded rationality originated from the insight that perfectly\n",
      "rational behavior cannot be realized by agents with limited cognitive or\n",
      "computational resources. Research on bounded rationality, mainly initiated by\n",
      "Herbert Simon, has a longstanding tradition in economics and the social\n",
      "sciences, but also plays a major role in modern AI and intelligent agent\n",
      "design. Taking actions under bounded resources requires an agent to reflect on\n",
      "how to use these resources in an optimal way - hence, to reason and make\n",
      "decisions on a meta-level. In this paper, we will look at automated machine\n",
      "learning (AutoML) and related problems from the perspective of bounded\n",
      "rationality, essentially viewing an AutoML tool as an agent that has to train a\n",
      "model on a given set of data, and the search for a good way of doing so (a\n",
      "suitable \"ML pipeline\") as deliberation on a meta-level.\n",
      "http://arxiv.org/pdf/2109.04744v1\n",
      "2021-09-10 09:10:20+00:00\n",
      "2021-09-10 09:10:20+00:00\n"
     ]
    }
   ],
   "source": [
    "import arxiv\n",
    "search = arxiv.Search(id_list=[\"2109.04744\"])\n",
    "paper = next(search.results())\n",
    "print(paper.title)\n",
    "print([author.name for author in paper.authors])\n",
    "print(paper.categories)\n",
    "print(paper.primary_category)\n",
    "print(paper.summary)\n",
    "print(paper.pdf_url)\n",
    "print(paper.published)\n",
    "print(paper.updated)"
   ]
  },
  {
   "cell_type": "code",
   "execution_count": 20,
   "id": "5d5f3334",
   "metadata": {},
   "outputs": [],
   "source": [
    "import cleantext"
   ]
  },
  {
   "cell_type": "code",
   "execution_count": 5,
   "id": "63a2b26f",
   "metadata": {},
   "outputs": [
    {
     "data": {
      "text/plain": [
       "['notion', 'bounded', 'rationality', 'originated', 'insight']"
      ]
     },
     "execution_count": 5,
     "metadata": {},
     "output_type": "execute_result"
    }
   ],
   "source": [
    "txt = paper.summary\n",
    "txt_cleaned = cleantext.clean_words(txt,\n",
    "                    all= False, # Execute all cleaning operations\n",
    "                    extra_spaces=True ,  # Remove extra white space \n",
    "                    stemming=False , # Stem the words\n",
    "                    stopwords=True ,# Remove stop words\n",
    "                    lowercase=True ,# Convert to lowercase\n",
    "                    numbers=True ,# Remove all digits \n",
    "                    punct=True ,# Remove all punctuations\n",
    "                    stp_lang='english'  # Language for stop words\n",
    ")\n",
    "txt_cleaned[:5]"
   ]
  },
  {
   "cell_type": "code",
   "execution_count": 31,
   "id": "5994a5df",
   "metadata": {},
   "outputs": [
    {
     "data": {
      "text/plain": [
       "'notion bounded rationality originated insight perfectly rational behavior cannot realized agents limited cognitive computational resources research bounded rationality mainly initiated herbert simon longstanding tradition economics social sciences also plays major role modern ai intelligent agent design taking actions bounded resources requires agent reflect use resources optimal way  hence reason make decisions metalevel paper look automated machine learning automl related problems perspective bounded rationality essentially viewing automl tool agent train model given set data search good way suitable ml pipeline deliberation metalevel'"
      ]
     },
     "execution_count": 31,
     "metadata": {},
     "output_type": "execute_result"
    }
   ],
   "source": [
    "cleantext.clean(txt,\n",
    "                    all= False, # Execute all cleaning operations\n",
    "                    extra_spaces=True ,  # Remove extra white space \n",
    "                    stemming=False , # Stem the words\n",
    "                    stopwords=True ,# Remove stop words\n",
    "                    lowercase=True ,# Convert to lowercase\n",
    "                    numbers=True ,# Remove all digits \n",
    "                    punct=True ,# Remove all punctuations\n",
    "                    stp_lang='english'  # Language for stop words\n",
    ")                "
   ]
  },
  {
   "cell_type": "code",
   "execution_count": null,
   "id": "a97f4178",
   "metadata": {},
   "outputs": [],
   "source": []
  }
 ],
 "metadata": {
  "kernelspec": {
   "display_name": "papers",
   "language": "python",
   "name": "papers"
  },
  "language_info": {
   "codemirror_mode": {
    "name": "ipython",
    "version": 3
   },
   "file_extension": ".py",
   "mimetype": "text/x-python",
   "name": "python",
   "nbconvert_exporter": "python",
   "pygments_lexer": "ipython3",
   "version": "3.7.0"
  }
 },
 "nbformat": 4,
 "nbformat_minor": 5
}
