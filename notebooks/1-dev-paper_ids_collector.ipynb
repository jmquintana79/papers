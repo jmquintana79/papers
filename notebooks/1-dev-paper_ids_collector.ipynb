{
 "cells": [
  {
   "cell_type": "markdown",
   "id": "a0186732",
   "metadata": {},
   "source": [
    "# Dev: Papers IDs collector\n",
    "\n",
    "\n",
    "### References\n",
    "\n",
    "- [arXiv.org](https://arxiv.org/)\n",
    "- [arXiv API-Homepage](https://pypi.org/project/arxiv/)\n",
    "- [arXiv API-Documentation](http://lukasschwab.me/arxiv.py/index.html)"
   ]
  },
  {
   "cell_type": "code",
   "execution_count": 61,
   "id": "9f83239e",
   "metadata": {},
   "outputs": [],
   "source": [
    "import pandas as pd\n",
    "import numpy as np\n",
    "from datetime import datetime\n",
    "import arxiv\n",
    "import warnings\n",
    "warnings.filterwarnings('ignore')"
   ]
  },
  {
   "cell_type": "markdown",
   "id": "ed104d78",
   "metadata": {},
   "source": [
    "## arguments"
   ]
  },
  {
   "cell_type": "code",
   "execution_count": 62,
   "id": "db6667b9",
   "metadata": {},
   "outputs": [],
   "source": [
    "month_i = datetime(2021,8,1)\n",
    "month_f = datetime(2021,9,1)\n",
    "required_categories = ['math.ST', 'stat.ME', 'stat.AP', 'stat.CO', 'cs.LG', 'stat.ML', 'cs.AI']"
   ]
  },
  {
   "cell_type": "markdown",
   "id": "7d7c52f2",
   "metadata": {},
   "source": [
    "## functions"
   ]
  },
  {
   "cell_type": "code",
   "execution_count": null,
   "id": "e4e3f384",
   "metadata": {},
   "outputs": [],
   "source": [
    "def get_ids(month_id:str):\n",
    "    try:\n",
    "        return next(arxiv.Search(id_list=[month_id]).results())\n",
    "    except:\n",
    "        return None"
   ]
  },
  {
   "cell_type": "markdown",
   "id": "1d755f6a",
   "metadata": {},
   "source": [
    "## IDs list to be parsed"
   ]
  },
  {
   "cell_type": "code",
   "execution_count": 107,
   "id": "a0cd99e5",
   "metadata": {},
   "outputs": [
    {
     "name": "stdout",
     "output_type": "stream",
     "text": [
      "[info] Months to be collected = 1\n",
      "[info] IDs to be collected per month = 300\n",
      "[info] Total number of Ids to be collected= 300\n"
     ]
    }
   ],
   "source": [
    "# list of months to be collected\n",
    "months = [f'{str(month_i.year)[2:]}{\"%02d\"%dt.month}' for dt in pd.date_range(start=month_i, end=month_f, freq='M').to_pydatetime().tolist()]\n",
    "print(f'[info] Months to be collected = {len(months)}')\n",
    "# list of ids to be parsed\n",
    "ids = [\"%05d\"%i for i in np.arange(0, 100000,1)][:300]\n",
    "print(f'[info] IDs to be collected per month = {len(ids)}')\n",
    "# final list of month/ids to be parsed\n",
    "months_ids = list(np.array([[f'{m}.{i}' for i in ids] for m in months]).ravel())\n",
    "print(f'[info] Total number of Ids to be collected= {len(months_ids)}')"
   ]
  },
  {
   "cell_type": "markdown",
   "id": "c0b85128",
   "metadata": {},
   "source": [
    "## collect required IDs"
   ]
  },
  {
   "cell_type": "code",
   "execution_count": 108,
   "id": "446e8e1f",
   "metadata": {},
   "outputs": [
    {
     "data": {
      "text/html": [
       "<div>\n",
       "<style scoped>\n",
       "    .dataframe tbody tr th:only-of-type {\n",
       "        vertical-align: middle;\n",
       "    }\n",
       "\n",
       "    .dataframe tbody tr th {\n",
       "        vertical-align: top;\n",
       "    }\n",
       "\n",
       "    .dataframe thead th {\n",
       "        text-align: right;\n",
       "    }\n",
       "</style>\n",
       "<table border=\"1\" class=\"dataframe\">\n",
       "  <thead>\n",
       "    <tr style=\"text-align: right;\">\n",
       "      <th></th>\n",
       "      <th>short_id</th>\n",
       "      <th>publised_dt</th>\n",
       "    </tr>\n",
       "  </thead>\n",
       "  <tbody>\n",
       "    <tr>\n",
       "      <th>0</th>\n",
       "      <td>2108.00002v1</td>\n",
       "      <td>2021-07-29 18:45:10+00:00</td>\n",
       "    </tr>\n",
       "    <tr>\n",
       "      <th>1</th>\n",
       "      <td>2108.00003v1</td>\n",
       "      <td>2021-07-29 23:30:02+00:00</td>\n",
       "    </tr>\n",
       "    <tr>\n",
       "      <th>2</th>\n",
       "      <td>2108.00037v1</td>\n",
       "      <td>2021-07-30 18:43:14+00:00</td>\n",
       "    </tr>\n",
       "    <tr>\n",
       "      <th>3</th>\n",
       "      <td>2108.00043v1</td>\n",
       "      <td>2021-07-30 19:02:32+00:00</td>\n",
       "    </tr>\n",
       "    <tr>\n",
       "      <th>4</th>\n",
       "      <td>2108.00045v1</td>\n",
       "      <td>2021-07-30 19:08:44+00:00</td>\n",
       "    </tr>\n",
       "  </tbody>\n",
       "</table>\n",
       "</div>"
      ],
      "text/plain": [
       "       short_id               publised_dt\n",
       "0  2108.00002v1 2021-07-29 18:45:10+00:00\n",
       "1  2108.00003v1 2021-07-29 23:30:02+00:00\n",
       "2  2108.00037v1 2021-07-30 18:43:14+00:00\n",
       "3  2108.00043v1 2021-07-30 19:02:32+00:00\n",
       "4  2108.00045v1 2021-07-30 19:08:44+00:00"
      ]
     },
     "execution_count": 108,
     "metadata": {},
     "output_type": "execute_result"
    }
   ],
   "source": [
    "data = [(paper.get_short_id(), paper.published) for paper in [get_ids(i) for i in months_ids] if not paper is None and len(list(set(paper.categories) & set(required_categories)))>0]\n",
    "dfdata = pd.DataFrame(data, columns = ['short_id', 'publised_dt'])\n",
    "dfdata.head()"
   ]
  },
  {
   "cell_type": "markdown",
   "id": "50bfe507",
   "metadata": {},
   "source": [
    "## parelilize\n",
    "https://stackoverflow.com/questions/9786102/how-do-i-parallelize-a-simple-python-loop"
   ]
  },
  {
   "cell_type": "code",
   "execution_count": null,
   "id": "d17510f1",
   "metadata": {},
   "outputs": [],
   "source": []
  }
 ],
 "metadata": {
  "kernelspec": {
   "display_name": "papers",
   "language": "python",
   "name": "papers"
  },
  "language_info": {
   "codemirror_mode": {
    "name": "ipython",
    "version": 3
   },
   "file_extension": ".py",
   "mimetype": "text/x-python",
   "name": "python",
   "nbconvert_exporter": "python",
   "pygments_lexer": "ipython3",
   "version": "3.7.0"
  }
 },
 "nbformat": 4,
 "nbformat_minor": 5
}
