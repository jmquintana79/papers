{
 "cells": [
  {
   "cell_type": "markdown",
   "id": "a0186732",
   "metadata": {},
   "source": [
    "# Dev: Papers IDs collector\n",
    "\n",
    "\n",
    "### References\n",
    "\n",
    "- [arXiv.org](https://arxiv.org/)\n",
    "- [arXiv API-Homepage](https://pypi.org/project/arxiv/)\n",
    "- [arXiv API-Documentation](http://lukasschwab.me/arxiv.py/index.html)"
   ]
  },
  {
   "cell_type": "code",
   "execution_count": 6,
   "id": "9f83239e",
   "metadata": {},
   "outputs": [],
   "source": [
    "import os\n",
    "import pandas as pd\n",
    "import numpy as np\n",
    "from datetime import datetime\n",
    "import arxiv\n",
    "from datetime import datetime\n",
    "import ray\n",
    "import warnings\n",
    "warnings.filterwarnings('ignore')"
   ]
  },
  {
   "cell_type": "markdown",
   "id": "ed104d78",
   "metadata": {},
   "source": [
    "## arguments"
   ]
  },
  {
   "cell_type": "code",
   "execution_count": 33,
   "id": "db6667b9",
   "metadata": {},
   "outputs": [],
   "source": [
    "month_i = datetime(2021,8,1)\n",
    "month_f = datetime(2021,9,1)\n",
    "required_categories = ['math.ST', 'stat.ME', 'stat.AP', 'stat.CO', 'cs.LG', 'stat.ML', 'cs.AI']\n",
    "folder_output = 'datasets'"
   ]
  },
  {
   "cell_type": "markdown",
   "id": "7d7c52f2",
   "metadata": {},
   "source": [
    "## functions"
   ]
  },
  {
   "cell_type": "code",
   "execution_count": 34,
   "id": "e4e3f384",
   "metadata": {},
   "outputs": [],
   "source": [
    "def get_ids(month_id:str):\n",
    "    try:\n",
    "        return next(arxiv.Search(id_list=[month_id]).results())\n",
    "    except:\n",
    "        return None"
   ]
  },
  {
   "cell_type": "markdown",
   "id": "1d755f6a",
   "metadata": {},
   "source": [
    "## IDs list to be parsed"
   ]
  },
  {
   "cell_type": "code",
   "execution_count": 35,
   "id": "a0cd99e5",
   "metadata": {},
   "outputs": [
    {
     "name": "stdout",
     "output_type": "stream",
     "text": [
      "[info] Months to be collected = 1\n",
      "[info] IDs to be collected per month = 100\n"
     ]
    }
   ],
   "source": [
    "# list of months to be collected\n",
    "months = [f'{str(month_i.year)[2:]}{\"%02d\"%dt.month}' for dt in pd.date_range(start=month_i, end=month_f, freq='M').to_pydatetime().tolist()]\n",
    "print(f'[info] Months to be collected = {len(months)}')\n",
    "# list of ids to be parsed\n",
    "ids = [\"%05d\"%i for i in np.arange(0, 100000,1)][:100]\n",
    "print(f'[info] IDs to be collected per month = {len(ids)}')"
   ]
  },
  {
   "cell_type": "markdown",
   "id": "c0b85128",
   "metadata": {},
   "source": [
    "## collect required IDs"
   ]
  },
  {
   "cell_type": "code",
   "execution_count": 39,
   "id": "dbdfbdca",
   "metadata": {},
   "outputs": [
    {
     "name": "stdout",
     "output_type": "stream",
     "text": [
      "--> collecting month \"2108\"...\n",
      "[info] Process time spent 0.45 minutes\n",
      "[info] It was save 19 records.\n"
     ]
    }
   ],
   "source": [
    "# loop of months\n",
    "for month in months[::-1]:\n",
    "    # display\n",
    "    print(f'--> collecting month \"{month}\"...')\n",
    "\n",
    "    ## init ray\n",
    "    ray.init()\n",
    "\n",
    "    @ray.remote\n",
    "    def get_ids(month_id:str):\n",
    "        try:\n",
    "            return next(arxiv.Search(id_list=[month_id]).results())\n",
    "        except:\n",
    "            return None\n",
    "\n",
    "    @ray.remote\n",
    "    def return_out(paper):\n",
    "        return (paper.get_short_id(), paper.published)\n",
    "\n",
    "    # init time counter\n",
    "    tic = datetime.now()\n",
    "    # collect papers ids\n",
    "    papers = ray.get([get_ids.remote(f'{month}.{i}') for i in ids])\n",
    "    outs = [return_out.remote(paper) for paper in papers if not paper is None and len(list(set(paper.categories) & set(required_categories)))>0]\n",
    "    # store in df\n",
    "    dfdata = pd.DataFrame(ray.get(outs), columns = ['short_id', 'publised_dt'])\n",
    "    # end time counter and estimate diference\n",
    "    toc = datetime.now()\n",
    "    tictoc = ((toc-tic).seconds)/60. # minutes\n",
    "    # display\n",
    "    print(f\"[info] Process time spent {tictoc} minutes\")\n",
    "    # save output\n",
    "    path_output = os.path.join(folder_output, f'table-id_papers_ia-{month}.csv')\n",
    "    #dfdata.to_csv(path_output)\n",
    "    print(f\"[info] It was save {dfdata.shape[0]} records.\")\n",
    "    # shutdown ray\n",
    "    ray.shutdown()"
   ]
  },
  {
   "cell_type": "code",
   "execution_count": null,
   "id": "d17510f1",
   "metadata": {},
   "outputs": [],
   "source": []
  }
 ],
 "metadata": {
  "kernelspec": {
   "display_name": "papers",
   "language": "python",
   "name": "papers"
  },
  "language_info": {
   "codemirror_mode": {
    "name": "ipython",
    "version": 3
   },
   "file_extension": ".py",
   "mimetype": "text/x-python",
   "name": "python",
   "nbconvert_exporter": "python",
   "pygments_lexer": "ipython3",
   "version": "3.7.0"
  }
 },
 "nbformat": 4,
 "nbformat_minor": 5
}
