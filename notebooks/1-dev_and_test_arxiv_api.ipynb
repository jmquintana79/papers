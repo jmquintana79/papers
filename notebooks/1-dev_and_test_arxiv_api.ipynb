{
 "cells": [
  {
   "cell_type": "markdown",
   "id": "a0186732",
   "metadata": {},
   "source": [
    "# Dev and Test arXiv API\n",
    "\n",
    "### References\n",
    "\n",
    "- [arXiv.org](https://arxiv.org/)\n",
    "- [arXiv API-Homepage](https://pypi.org/project/arxiv/)\n",
    "- [arXiv API-Documentation](http://lukasschwab.me/arxiv.py/index.html)"
   ]
  },
  {
   "cell_type": "code",
   "execution_count": 1,
   "id": "9f83239e",
   "metadata": {},
   "outputs": [],
   "source": [
    "import pandas as pd"
   ]
  },
  {
   "cell_type": "code",
   "execution_count": 54,
   "id": "8e5f5d17",
   "metadata": {},
   "outputs": [
    {
     "name": "stdout",
     "output_type": "stream",
     "text": [
      "Automated Machine Learning, Bounded Rationality, and Rational Metareasoning\n",
      "['Eyke Hüllermeier', 'Felix Mohr', 'Alexander Tornede', 'Marcel Wever']\n",
      "['cs.AI', 'cs.LG']\n",
      "cs.AI\n",
      "The notion of bounded rationality originated from the insight that perfectly\n",
      "rational behavior cannot be realized by agents with limited cognitive or\n",
      "computational resources. Research on bounded rationality, mainly initiated by\n",
      "Herbert Simon, has a longstanding tradition in economics and the social\n",
      "sciences, but also plays a major role in modern AI and intelligent agent\n",
      "design. Taking actions under bounded resources requires an agent to reflect on\n",
      "how to use these resources in an optimal way - hence, to reason and make\n",
      "decisions on a meta-level. In this paper, we will look at automated machine\n",
      "learning (AutoML) and related problems from the perspective of bounded\n",
      "rationality, essentially viewing an AutoML tool as an agent that has to train a\n",
      "model on a given set of data, and the search for a good way of doing so (a\n",
      "suitable \"ML pipeline\") as deliberation on a meta-level.\n",
      "http://arxiv.org/pdf/2109.04744v1\n",
      "2021-09-10 09:10:20+00:00\n",
      "2021-09-10 09:10:20+00:00\n"
     ]
    }
   ],
   "source": [
    "import arxiv\n",
    "search = arxiv.Search(id_list=[\"2109.04744\"])\n",
    "paper = next(search.results())\n",
    "print(paper.title)\n",
    "print([author.name for author in paper.authors])\n",
    "print(paper.categories)\n",
    "print(paper.primary_category)\n",
    "print(paper.summary)\n",
    "print(paper.pdf_url)\n",
    "print(paper.published)\n",
    "print(paper.updated)"
   ]
  },
  {
   "cell_type": "code",
   "execution_count": 55,
   "id": "5d5f3334",
   "metadata": {},
   "outputs": [],
   "source": [
    "import cleantext"
   ]
  },
  {
   "cell_type": "code",
   "execution_count": 64,
   "id": "63a2b26f",
   "metadata": {},
   "outputs": [
    {
     "data": {
      "text/plain": [
       "['notion',\n",
       " 'bounded',\n",
       " 'rationality',\n",
       " 'originated',\n",
       " 'insight',\n",
       " 'perfectly',\n",
       " 'rational',\n",
       " 'behavior',\n",
       " 'cannot',\n",
       " 'realized',\n",
       " 'agents',\n",
       " 'limited',\n",
       " 'cognitive',\n",
       " 'computational',\n",
       " 'resources',\n",
       " 'research',\n",
       " 'bounded',\n",
       " 'rationality',\n",
       " 'mainly',\n",
       " 'initiated',\n",
       " 'herbert',\n",
       " 'simon',\n",
       " 'longstanding',\n",
       " 'tradition',\n",
       " 'economics',\n",
       " 'social',\n",
       " 'sciences',\n",
       " 'also',\n",
       " 'plays',\n",
       " 'major',\n",
       " 'role',\n",
       " 'modern',\n",
       " 'ai',\n",
       " 'intelligent',\n",
       " 'agent',\n",
       " 'design',\n",
       " 'taking',\n",
       " 'actions',\n",
       " 'bounded',\n",
       " 'resources',\n",
       " 'requires',\n",
       " 'agent',\n",
       " 'reflect',\n",
       " 'use',\n",
       " 'resources',\n",
       " 'optimal',\n",
       " 'way',\n",
       " 'hence',\n",
       " 'reason',\n",
       " 'make',\n",
       " 'decisions',\n",
       " 'metalevel',\n",
       " 'paper',\n",
       " 'look',\n",
       " 'automated',\n",
       " 'machine',\n",
       " 'learning',\n",
       " 'automl',\n",
       " 'related',\n",
       " 'problems',\n",
       " 'perspective',\n",
       " 'bounded',\n",
       " 'rationality',\n",
       " 'essentially',\n",
       " 'viewing',\n",
       " 'automl',\n",
       " 'tool',\n",
       " 'agent',\n",
       " 'train',\n",
       " 'model',\n",
       " 'given',\n",
       " 'set',\n",
       " 'data',\n",
       " 'search',\n",
       " 'good',\n",
       " 'way',\n",
       " 'suitable',\n",
       " 'ml',\n",
       " 'pipeline',\n",
       " 'deliberation',\n",
       " 'metalevel']"
      ]
     },
     "execution_count": 64,
     "metadata": {},
     "output_type": "execute_result"
    }
   ],
   "source": [
    "txt = paper.summary\n",
    "txt_cleaned = cleantext.clean_words(txt,\n",
    "                    all= False, # Execute all cleaning operations\n",
    "                    extra_spaces=True ,  # Remove extra white space \n",
    "                    stemming=False , # Stem the words\n",
    "                    stopwords=True ,# Remove stop words\n",
    "                    lowercase=True ,# Convert to lowercase\n",
    "                    numbers=True ,# Remove all digits \n",
    "                    punct=True ,# Remove all punctuations\n",
    "                    stp_lang='english'  # Language for stop words\n",
    ")\n",
    "txt_cleaned"
   ]
  },
  {
   "cell_type": "code",
   "execution_count": null,
   "id": "6eedc8a1",
   "metadata": {},
   "outputs": [],
   "source": []
  },
  {
   "cell_type": "code",
   "execution_count": null,
   "id": "5994a5df",
   "metadata": {},
   "outputs": [],
   "source": []
  }
 ],
 "metadata": {
  "kernelspec": {
   "display_name": "papers",
   "language": "python",
   "name": "papers"
  },
  "language_info": {
   "codemirror_mode": {
    "name": "ipython",
    "version": 3
   },
   "file_extension": ".py",
   "mimetype": "text/x-python",
   "name": "python",
   "nbconvert_exporter": "python",
   "pygments_lexer": "ipython3",
   "version": "3.7.0"
  }
 },
 "nbformat": 4,
 "nbformat_minor": 5
}
