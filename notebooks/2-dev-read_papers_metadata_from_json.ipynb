{
 "cells": [
  {
   "cell_type": "markdown",
   "id": "07284330",
   "metadata": {},
   "source": [
    "# Dev: Read metadata paper from json"
   ]
  },
  {
   "cell_type": "code",
   "execution_count": 68,
   "id": "f5a82b1f",
   "metadata": {},
   "outputs": [],
   "source": [
    "import os\n",
    "import json\n",
    "import pandas as pd\n",
    "import numpy as np\n",
    "from datetime import datetime\n",
    "from tqdm import tqdm "
   ]
  },
  {
   "cell_type": "markdown",
   "id": "0af1a2e7",
   "metadata": {},
   "source": [
    "### arguments"
   ]
  },
  {
   "cell_type": "code",
   "execution_count": 41,
   "id": "b3f43273",
   "metadata": {},
   "outputs": [],
   "source": [
    "folder_input = '/Users/juan/Workspace/projects/papers/datasets/raw'\n",
    "file_input = 'papers.json'"
   ]
  },
  {
   "cell_type": "markdown",
   "id": "b71e997f",
   "metadata": {},
   "source": [
    "### load"
   ]
  },
  {
   "cell_type": "code",
   "execution_count": 54,
   "id": "b9d097bf",
   "metadata": {},
   "outputs": [
    {
     "name": "stderr",
     "output_type": "stream",
     "text": [
      "100%|████████████████████████████████████████████████████████████████████| 1945077/1945077 [00:27<00:00, 71612.61it/s]\n"
     ]
    }
   ],
   "source": [
    "# Using readlines()\n",
    "file1 = open(os.path.join(folder_input, file_input), 'r')\n",
    "Lines = file1.readlines()\n",
    "records = list()\n",
    "count = 0\n",
    "# Strips the newline character\n",
    "for line in tqdm(Lines, disable = False):\n",
    "    count += 1\n",
    "    json_data = json.loads(line.strip())\n",
    "    #print(\"Line{}: {}\".format(count, line.strip()))\n",
    "    records.append([json_data['id'], json_data['categories'][0]])\n",
    "file1.close()"
   ]
  },
  {
   "cell_type": "code",
   "execution_count": 55,
   "id": "e8629a6f",
   "metadata": {},
   "outputs": [
    {
     "data": {
      "text/plain": [
       "(1945077, 2)"
      ]
     },
     "execution_count": 55,
     "metadata": {},
     "output_type": "execute_result"
    }
   ],
   "source": [
    "df = pd.DataFrame(records, columns = ['id', 'categories'])\n",
    "df.shape"
   ]
  },
  {
   "cell_type": "code",
   "execution_count": 74,
   "id": "d6f144e5",
   "metadata": {},
   "outputs": [],
   "source": [
    "def get_month(x):\n",
    "    if '.' in x:\n",
    "        return x.split('.')[0]\n",
    "    elif '/' in x:\n",
    "        return x.split('/')[-1][:4]\n",
    "    else:\n",
    "        return np.nan\n",
    "    \n",
    "df['month'] = df['id'].apply(get_month)\n",
    "df['date'] = df['month'].apply(lambda x: datetime.strptime(x, '%y%m'))\n",
    "df.sort_values('date', inplace = True)"
   ]
  },
  {
   "cell_type": "code",
   "execution_count": 77,
   "id": "455a65c7",
   "metadata": {},
   "outputs": [
    {
     "data": {
      "text/html": [
       "<div>\n",
       "<style scoped>\n",
       "    .dataframe tbody tr th:only-of-type {\n",
       "        vertical-align: middle;\n",
       "    }\n",
       "\n",
       "    .dataframe tbody tr th {\n",
       "        vertical-align: top;\n",
       "    }\n",
       "\n",
       "    .dataframe thead th {\n",
       "        text-align: right;\n",
       "    }\n",
       "</style>\n",
       "<table border=\"1\" class=\"dataframe\">\n",
       "  <thead>\n",
       "    <tr style=\"text-align: right;\">\n",
       "      <th></th>\n",
       "      <th>id</th>\n",
       "      <th>categories</th>\n",
       "      <th>month</th>\n",
       "      <th>date</th>\n",
       "    </tr>\n",
       "  </thead>\n",
       "  <tbody>\n",
       "    <tr>\n",
       "      <th>1526557</th>\n",
       "      <td>2109.03736</td>\n",
       "      <td>math.AG</td>\n",
       "      <td>2109</td>\n",
       "      <td>2021-09-01</td>\n",
       "    </tr>\n",
       "    <tr>\n",
       "      <th>1526558</th>\n",
       "      <td>2109.03737</td>\n",
       "      <td>math.AP</td>\n",
       "      <td>2109</td>\n",
       "      <td>2021-09-01</td>\n",
       "    </tr>\n",
       "    <tr>\n",
       "      <th>1526559</th>\n",
       "      <td>2109.03738</td>\n",
       "      <td>cond-mat.str-el</td>\n",
       "      <td>2109</td>\n",
       "      <td>2021-09-01</td>\n",
       "    </tr>\n",
       "    <tr>\n",
       "      <th>1526551</th>\n",
       "      <td>2109.03730</td>\n",
       "      <td>hep-ph</td>\n",
       "      <td>2109</td>\n",
       "      <td>2021-09-01</td>\n",
       "    </tr>\n",
       "    <tr>\n",
       "      <th>1523385</th>\n",
       "      <td>2109.00564</td>\n",
       "      <td>gr-qc astro-ph.HE hep-th</td>\n",
       "      <td>2109</td>\n",
       "      <td>2021-09-01</td>\n",
       "    </tr>\n",
       "  </tbody>\n",
       "</table>\n",
       "</div>"
      ],
      "text/plain": [
       "                 id                categories month       date\n",
       "1526557  2109.03736                   math.AG  2109 2021-09-01\n",
       "1526558  2109.03737                   math.AP  2109 2021-09-01\n",
       "1526559  2109.03738           cond-mat.str-el  2109 2021-09-01\n",
       "1526551  2109.03730                    hep-ph  2109 2021-09-01\n",
       "1523385  2109.00564  gr-qc astro-ph.HE hep-th  2109 2021-09-01"
      ]
     },
     "execution_count": 77,
     "metadata": {},
     "output_type": "execute_result"
    }
   ],
   "source": [
    "df.tail()"
   ]
  },
  {
   "cell_type": "code",
   "execution_count": 81,
   "id": "5c78db27",
   "metadata": {
    "scrolled": false
   },
   "outputs": [
    {
     "data": {
      "text/plain": [
       "<AxesSubplot:xlabel='date'>"
      ]
     },
     "execution_count": 81,
     "metadata": {},
     "output_type": "execute_result"
    },
    {
     "data": {
      "image/png": "[encoded data removed]",
      "text/plain": [
       "<Figure size 432x288 with 1 Axes>"
      ]
     },
     "metadata": {
      "needs_background": "light"
     },
     "output_type": "display_data"
    }
   ],
   "source": [
    "df.groupby('date')[['id']].count().plot()"
   ]
  },
  {
   "cell_type": "code",
   "execution_count": null,
   "id": "85364f51",
   "metadata": {},
   "outputs": [],
   "source": []
  }
 ],
 "metadata": {
  "kernelspec": {
   "display_name": "papers",
   "language": "python",
   "name": "papers"
  },
  "language_info": {
   "codemirror_mode": {
    "name": "ipython",
    "version": 3
   },
   "file_extension": ".py",
   "mimetype": "text/x-python",
   "name": "python",
   "nbconvert_exporter": "python",
   "pygments_lexer": "ipython3",
   "version": "3.7.0"
  }
 },
 "nbformat": 4,
 "nbformat_minor": 5
}
